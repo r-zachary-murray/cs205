{
 "cells": [
  {
   "cell_type": "code",
   "execution_count": 38,
   "id": "otherwise-armstrong",
   "metadata": {},
   "outputs": [],
   "source": [
    "import numpy as np"
   ]
  },
  {
   "cell_type": "code",
   "execution_count": 39,
   "id": "standard-granny",
   "metadata": {},
   "outputs": [],
   "source": [
    "np.random.seed(42)\n",
    "pts=100\n",
    "x = np.random.uniform(0,1,pts)\n",
    "y = np.random.uniform(0,1,pts)\n",
    "z = np.random.uniform(0,1,pts)\n",
    "r = 0.1"
   ]
  },
  {
   "cell_type": "code",
   "execution_count": 40,
   "id": "changing-warning",
   "metadata": {},
   "outputs": [],
   "source": [
    "np.savetxt('xtest3',x)\n",
    "np.savetxt('ytest3',y)\n",
    "np.savetxt('ztest3',z)"
   ]
  },
  {
   "cell_type": "code",
   "execution_count": 41,
   "id": "unique-muslim",
   "metadata": {},
   "outputs": [
    {
     "name": "stdout",
     "output_type": "stream",
     "text": [
      "particle:  2  collided with particles: [94]\n",
      "particle:  4  collided with particles: [21]\n",
      "particle:  10  collided with particles: [58]\n",
      "particle:  13  collided with particles: [15]\n",
      "particle:  15  collided with particles: [13]\n",
      "particle:  21  collided with particles: [4]\n",
      "particle:  22  collided with particles: [44]\n",
      "particle:  28  collided with particles: [45, 48]\n",
      "particle:  37  collided with particles: [99]\n",
      "particle:  39  collided with particles: [97]\n",
      "particle:  42  collided with particles: [72]\n",
      "particle:  44  collided with particles: [22]\n",
      "particle:  45  collided with particles: [28]\n",
      "particle:  48  collided with particles: [28]\n",
      "particle:  53  collided with particles: [88]\n",
      "particle:  58  collided with particles: [10]\n",
      "particle:  59  collided with particles: [85]\n",
      "particle:  70  collided with particles: [76]\n",
      "particle:  72  collided with particles: [42]\n",
      "particle:  76  collided with particles: [70]\n",
      "particle:  85  collided with particles: [59]\n",
      "particle:  88  collided with particles: [53]\n",
      "particle:  94  collided with particles: [2]\n",
      "particle:  97  collided with particles: [39]\n",
      "particle:  99  collided with particles: [37]\n"
     ]
    }
   ],
   "source": [
    "for i in range(len(x)):\n",
    "    dist = np.sqrt((x-x[i])**2 + (y-y[i])**2 + (z-z[i])**2)\n",
    "    inds = list(np.where(dist < r)[0])\n",
    "    inds.remove(i) #remove self-collision\n",
    "    if len(inds) > 0:\n",
    "        print('particle: ',i,' collided with particles:',inds)"
   ]
  },
  {
   "cell_type": "code",
   "execution_count": null,
   "id": "black-hollywood",
   "metadata": {},
   "outputs": [],
   "source": []
  },
  {
   "cell_type": "code",
   "execution_count": null,
   "id": "quality-nevada",
   "metadata": {},
   "outputs": [],
   "source": []
  }
 ],
 "metadata": {
  "kernelspec": {
   "display_name": "Python 3",
   "language": "python",
   "name": "python3"
  },
  "language_info": {
   "codemirror_mode": {
    "name": "ipython",
    "version": 3
   },
   "file_extension": ".py",
   "mimetype": "text/x-python",
   "name": "python",
   "nbconvert_exporter": "python",
   "pygments_lexer": "ipython3",
   "version": "3.6.9"
  }
 },
 "nbformat": 4,
 "nbformat_minor": 5
}
