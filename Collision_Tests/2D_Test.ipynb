{
 "cells": [
  {
   "cell_type": "code",
   "execution_count": 7,
   "id": "affected-ceremony",
   "metadata": {},
   "outputs": [],
   "source": [
    "import numpy as np"
   ]
  },
  {
   "cell_type": "code",
   "execution_count": 8,
   "id": "grave-solid",
   "metadata": {},
   "outputs": [],
   "source": [
    "np.random.seed(42)\n",
    "pts=100\n",
    "x = np.random.uniform(0,1,pts)\n",
    "y = np.random.uniform(0,1,pts)\n",
    "r = 0.05"
   ]
  },
  {
   "cell_type": "code",
   "execution_count": 9,
   "id": "hindu-thought",
   "metadata": {},
   "outputs": [],
   "source": [
    "np.savetxt('xtest2',x)\n",
    "np.savetxt('ytest2',y)"
   ]
  },
  {
   "cell_type": "code",
   "execution_count": 10,
   "id": "seventh-ordinance",
   "metadata": {},
   "outputs": [
    {
     "name": "stdout",
     "output_type": "stream",
     "text": [
      "particle:  2  collided with particles: [94]\n",
      "particle:  4  collided with particles: [15, 21]\n",
      "particle:  5  collided with particles: [31, 49]\n",
      "particle:  6  collided with particles: [77]\n",
      "particle:  11  collided with particles: [52]\n",
      "particle:  13  collided with particles: [26, 57]\n",
      "particle:  15  collided with particles: [4]\n",
      "particle:  18  collided with particles: [97]\n",
      "particle:  19  collided with particles: [36]\n",
      "particle:  21  collided with particles: [4]\n",
      "particle:  22  collided with particles: [44]\n",
      "particle:  24  collided with particles: [41, 89]\n",
      "particle:  26  collided with particles: [13]\n",
      "particle:  27  collided with particles: [65]\n",
      "particle:  29  collided with particles: [42, 72]\n",
      "particle:  31  collided with particles: [5]\n",
      "particle:  34  collided with particles: [50]\n",
      "particle:  35  collided with particles: [94]\n",
      "particle:  36  collided with particles: [19]\n",
      "particle:  37  collided with particles: [56]\n",
      "particle:  41  collided with particles: [24, 89]\n",
      "particle:  42  collided with particles: [29, 72]\n",
      "particle:  44  collided with particles: [22]\n",
      "particle:  46  collided with particles: [61]\n",
      "particle:  49  collided with particles: [5]\n",
      "particle:  50  collided with particles: [34]\n",
      "particle:  51  collided with particles: [73]\n",
      "particle:  52  collided with particles: [11]\n",
      "particle:  53  collided with particles: [88]\n",
      "particle:  56  collided with particles: [37]\n",
      "particle:  57  collided with particles: [13]\n",
      "particle:  61  collided with particles: [46]\n",
      "particle:  65  collided with particles: [27]\n",
      "particle:  67  collided with particles: [73]\n",
      "particle:  70  collided with particles: [76]\n",
      "particle:  72  collided with particles: [29, 42]\n",
      "particle:  73  collided with particles: [51, 67]\n",
      "particle:  76  collided with particles: [70]\n",
      "particle:  77  collided with particles: [6]\n",
      "particle:  78  collided with particles: [82]\n",
      "particle:  79  collided with particles: [90]\n",
      "particle:  82  collided with particles: [78]\n",
      "particle:  83  collided with particles: [98]\n",
      "particle:  88  collided with particles: [53]\n",
      "particle:  89  collided with particles: [24, 41]\n",
      "particle:  90  collided with particles: [79]\n",
      "particle:  91  collided with particles: [92]\n",
      "particle:  92  collided with particles: [91]\n",
      "particle:  94  collided with particles: [2, 35]\n",
      "particle:  97  collided with particles: [18]\n",
      "particle:  98  collided with particles: [83]\n"
     ]
    }
   ],
   "source": [
    "for i in range(len(x)):\n",
    "    dist = np.sqrt((x-x[i])**2 + (y-y[i])**2)\n",
    "    inds = list(np.where(dist < r)[0])\n",
    "    inds.remove(i) #remove self-collision\n",
    "    if len(inds) > 0:\n",
    "        print('particle: ',i,' collided with particles:',inds)"
   ]
  },
  {
   "cell_type": "code",
   "execution_count": null,
   "id": "burning-track",
   "metadata": {},
   "outputs": [],
   "source": []
  },
  {
   "cell_type": "code",
   "execution_count": null,
   "id": "injured-exclusion",
   "metadata": {},
   "outputs": [],
   "source": []
  }
 ],
 "metadata": {
  "kernelspec": {
   "display_name": "Python 3",
   "language": "python",
   "name": "python3"
  },
  "language_info": {
   "codemirror_mode": {
    "name": "ipython",
    "version": 3
   },
   "file_extension": ".py",
   "mimetype": "text/x-python",
   "name": "python",
   "nbconvert_exporter": "python",
   "pygments_lexer": "ipython3",
   "version": "3.6.9"
  }
 },
 "nbformat": 4,
 "nbformat_minor": 5
}
