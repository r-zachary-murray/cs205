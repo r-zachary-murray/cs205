{
 "cells": [
  {
   "cell_type": "code",
   "execution_count": 1,
   "id": "dried-bishop",
   "metadata": {},
   "outputs": [
    {
     "name": "stderr",
     "output_type": "stream",
     "text": [
      "In /home/moon/.local/lib/python3.6/site-packages/matplotlib/mpl-data/stylelib/_classic_test.mplstyle: \n",
      "The text.latex.preview rcparam was deprecated in Matplotlib 3.3 and will be removed two minor releases later.\n",
      "In /home/moon/.local/lib/python3.6/site-packages/matplotlib/mpl-data/stylelib/_classic_test.mplstyle: \n",
      "The mathtext.fallback_to_cm rcparam was deprecated in Matplotlib 3.3 and will be removed two minor releases later.\n",
      "In /home/moon/.local/lib/python3.6/site-packages/matplotlib/mpl-data/stylelib/_classic_test.mplstyle: Support for setting the 'mathtext.fallback_to_cm' rcParam is deprecated since 3.3 and will be removed two minor releases later; use 'mathtext.fallback : 'cm' instead.\n",
      "In /home/moon/.local/lib/python3.6/site-packages/matplotlib/mpl-data/stylelib/_classic_test.mplstyle: \n",
      "The validate_bool_maybe_none function was deprecated in Matplotlib 3.3 and will be removed two minor releases later.\n",
      "In /home/moon/.local/lib/python3.6/site-packages/matplotlib/mpl-data/stylelib/_classic_test.mplstyle: \n",
      "The savefig.jpeg_quality rcparam was deprecated in Matplotlib 3.3 and will be removed two minor releases later.\n",
      "In /home/moon/.local/lib/python3.6/site-packages/matplotlib/mpl-data/stylelib/_classic_test.mplstyle: \n",
      "The keymap.all_axes rcparam was deprecated in Matplotlib 3.3 and will be removed two minor releases later.\n",
      "In /home/moon/.local/lib/python3.6/site-packages/matplotlib/mpl-data/stylelib/_classic_test.mplstyle: \n",
      "The animation.avconv_path rcparam was deprecated in Matplotlib 3.3 and will be removed two minor releases later.\n",
      "In /home/moon/.local/lib/python3.6/site-packages/matplotlib/mpl-data/stylelib/_classic_test.mplstyle: \n",
      "The animation.avconv_args rcparam was deprecated in Matplotlib 3.3 and will be removed two minor releases later.\n"
     ]
    }
   ],
   "source": [
    "import numpy as np\n",
    "np.random.seed(42)\n",
    "from mpl_toolkits import mplot3d\n",
    "import matplotlib.pyplot as plt\n",
    "import os"
   ]
  },
  {
   "cell_type": "markdown",
   "id": "curious-baghdad",
   "metadata": {},
   "source": [
    "## Uniform random over [0,1]"
   ]
  },
  {
   "cell_type": "code",
   "execution_count": 2,
   "id": "vanilla-nancy",
   "metadata": {},
   "outputs": [],
   "source": [
    "path = 'uniform'\n",
    "if not os.path.exists(path):\n",
    "    os.makedirs(path)\n",
    "    \n",
    "path2 = path+'/frames'\n",
    "if not os.path.exists(path2):\n",
    "    os.makedirs(path2)\n",
    "    \n",
    "for k in range(2,6):\n",
    "    pts=int(10**k)\n",
    "    x = np.random.uniform(0,1,pts)\n",
    "    y = np.random.uniform(0,1,pts)\n",
    "    z = np.random.uniform(0,1,pts)\n",
    "    np.savetxt(path+'/x_'+str(k),x)\n",
    "    np.savetxt(path+'/y_'+str(k),y)\n",
    "    np.savetxt(path+'/z_'+str(k),z)\n",
    "\n",
    "pts=int(10**3)\n",
    "x = np.random.uniform(0,1,pts)\n",
    "y = np.random.uniform(0,1,pts)\n",
    "z = np.random.uniform(0,1,pts)\n",
    "\n",
    "for i in range(0,90):\n",
    "    fig = plt.figure(figsize=(5,5),frameon=False)\n",
    "    fig.subplots_adjust(left=0, right=1, bottom=0, top=1)\n",
    "    ax = plt.axes(projection='3d')\n",
    "    ax.scatter(x,y,z,c='b')\n",
    "    ax.set_xlim(0,1)\n",
    "    ax.set_ylim(0,1)\n",
    "    ax.set_zlim(0,1)\n",
    "    ax.view_init(30, 2*i)\n",
    "    plt.title(\"Uniform Distribution\")\n",
    "    plt.savefig(path2+'/'+str(i)+'.png',dpi=150,transparent=True,bbox_inches='tight',pad_inches=0.5)\n",
    "    plt.close()"
   ]
  },
  {
   "cell_type": "code",
   "execution_count": null,
   "id": "military-fishing",
   "metadata": {},
   "outputs": [],
   "source": []
  },
  {
   "cell_type": "markdown",
   "id": "flying-plaintiff",
   "metadata": {},
   "source": [
    "## Gaussian with $\\mu=0$ $\\sigma =1/3$"
   ]
  },
  {
   "cell_type": "code",
   "execution_count": 3,
   "id": "violent-waters",
   "metadata": {},
   "outputs": [],
   "source": [
    "path = 'gaussian'\n",
    "if not os.path.exists(path):\n",
    "    os.makedirs(path)\n",
    "    \n",
    "path2 = path+'/frames'\n",
    "if not os.path.exists(path2):\n",
    "    os.makedirs(path2)\n",
    "    \n",
    "for k in range(2,6):\n",
    "    pts=int(10**k)\n",
    "    x = np.random.normal(0,1/3,pts)\n",
    "    y = np.random.normal(0,1/3,pts)\n",
    "    z = np.random.normal(0,1/3,pts)\n",
    "    np.savetxt(path+'/x_'+str(k),x)\n",
    "    np.savetxt(path+'/y_'+str(k),y)\n",
    "    np.savetxt(path+'/z_'+str(k),z)\n",
    "\n",
    "pts=int(10**3)\n",
    "x = np.random.normal(0,1/3,pts)\n",
    "y = np.random.normal(0,1/3,pts)\n",
    "z = np.random.normal(0,1/3,pts)\n",
    "\n",
    "for i in range(0,90):\n",
    "    fig,ax = plt.subplots(figsize=(5,5),frameon=False)\n",
    "    fig.subplots_adjust(left=0, right=1, bottom=0, top=1)\n",
    "    ax = plt.axes(projection='3d')\n",
    "    ax.scatter(x,y,z,c='b')\n",
    "    ax.set_xlim(-1,1)\n",
    "    ax.set_ylim(-1,1)\n",
    "    ax.set_zlim(-1,1)\n",
    "    ax.view_init(30, 2*i)\n",
    "    plt.title(\"Gaussian Distribution\")\n",
    "    plt.savefig(path2+'/'+str(i)+'.png',dpi=150,transparent=True,bbox_inches='tight',pad_inches=0.5)\n",
    "    plt.close()"
   ]
  },
  {
   "cell_type": "code",
   "execution_count": null,
   "id": "unnecessary-albany",
   "metadata": {},
   "outputs": [],
   "source": []
  },
  {
   "cell_type": "markdown",
   "id": "after-platinum",
   "metadata": {},
   "source": [
    "# Lognormal Distribution $\\mu=0$ $\\sigma =1/3$"
   ]
  },
  {
   "cell_type": "code",
   "execution_count": 4,
   "id": "moral-villa",
   "metadata": {},
   "outputs": [],
   "source": [
    "path = 'lognormal'\n",
    "if not os.path.exists(path):\n",
    "    os.makedirs(path)\n",
    "    \n",
    "path2 = path+'/frames'\n",
    "if not os.path.exists(path2):\n",
    "    os.makedirs(path2)\n",
    "    \n",
    "for k in range(2,6):\n",
    "    pts=int(10**k)\n",
    "    x = np.random.lognormal(0,1/3,pts)\n",
    "    y = np.random.lognormal(0,1/3,pts)\n",
    "    z = np.random.lognormal(0,1/3,pts)\n",
    "    np.savetxt(path+'/x_'+str(k),x)\n",
    "    np.savetxt(path+'/y_'+str(k),y)\n",
    "    np.savetxt(path+'/z_'+str(k),z)\n",
    "\n",
    "pts=int(10**3)\n",
    "x = np.random.lognormal(0,1/3,pts)\n",
    "y = np.random.lognormal(0,1/3,pts)\n",
    "z = np.random.lognormal(0,1/3,pts)\n",
    "\n",
    "for i in range(0,90):\n",
    "    fig = plt.figure(figsize=(5,5),frameon=False)\n",
    "    fig.subplots_adjust(left=0, right=1, bottom=0, top=1)\n",
    "    ax = plt.axes(projection='3d')\n",
    "    ax.scatter(x,y,z,c='b')\n",
    "    ax.set_xlim(0,2)\n",
    "    ax.set_ylim(0,2)\n",
    "    ax.set_zlim(0,2)\n",
    "    ax.view_init(30, 2*i)\n",
    "    plt.title(\"Lognormal Distribution\")\n",
    "    plt.savefig(path2+'/'+str(i)+'.png',dpi=150,transparent=True,bbox_inches='tight',pad_inches=0.5)\n",
    "    plt.close()"
   ]
  },
  {
   "cell_type": "code",
   "execution_count": null,
   "id": "touched-basic",
   "metadata": {},
   "outputs": [],
   "source": []
  },
  {
   "cell_type": "code",
   "execution_count": null,
   "id": "thirty-amsterdam",
   "metadata": {},
   "outputs": [],
   "source": []
  },
  {
   "cell_type": "code",
   "execution_count": null,
   "id": "portuguese-hours",
   "metadata": {},
   "outputs": [],
   "source": []
  }
 ],
 "metadata": {
  "kernelspec": {
   "display_name": "Python 3",
   "language": "python",
   "name": "python3"
  },
  "language_info": {
   "codemirror_mode": {
    "name": "ipython",
    "version": 3
   },
   "file_extension": ".py",
   "mimetype": "text/x-python",
   "name": "python",
   "nbconvert_exporter": "python",
   "pygments_lexer": "ipython3",
   "version": "3.6.9"
  }
 },
 "nbformat": 4,
 "nbformat_minor": 5
}
